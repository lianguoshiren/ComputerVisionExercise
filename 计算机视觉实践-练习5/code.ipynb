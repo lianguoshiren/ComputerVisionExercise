{
 "cells": [
  {
   "cell_type": "code",
   "execution_count": null,
   "metadata": {},
   "outputs": [],
   "source": [
    "import cv2\n",
    "import numpy as np\n",
    "from matplotlib import pyplot as plt\n",
    "\n",
    "# 读取左图和右图\n",
    "img_left = cv2.imread('left.jpg', cv2.IMREAD_GRAYSCALE)\n",
    "img_right = cv2.imread('right.jpg', cv2.IMREAD_GRAYSCALE)\n",
    "\n",
    "# 创建立体匹配对象\n",
    "stereo = cv2.StereoSGBM_create(minDisparity=0,\n",
    "                               numDisparities=16*5,\n",
    "                               blockSize=5,\n",
    "                               P1=8*3*5**2,\n",
    "                               P2=32*3*5**2,\n",
    "                               disp12MaxDiff=1,\n",
    "                               uniquenessRatio=15,\n",
    "                               speckleWindowSize=0,\n",
    "                               speckleRange=2,\n",
    "                               preFilterCap=63,\n",
    "                               mode=cv2.STEREO_SGBM_MODE_SGBM_3WAY)\n",
    "\n",
    "# 计算视差图\n",
    "disparity = stereo.compute(img_left, img_right).astype(np.float32) / 16.0\n",
    "\n",
    "# 归一化视差图以便显示\n",
    "disparity = cv2.normalize(disparity, disparity, alpha=0, beta=255, norm_type=cv2.NORM_MINMAX)\n",
    "disparity = np.uint8(disparity)\n",
    "\n",
    "# 显示视差图\n",
    "plt.imshow(disparity, cmap='gray')\n",
    "plt.colorbar()\n",
    "plt.show()\n"
   ]
  }
 ],
 "metadata": {
  "language_info": {
   "name": "python"
  }
 },
 "nbformat": 4,
 "nbformat_minor": 2
}
