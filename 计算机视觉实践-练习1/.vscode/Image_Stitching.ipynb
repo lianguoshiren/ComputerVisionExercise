{
 "cells": [
  {
   "cell_type": "code",
   "execution_count": 2,
   "metadata": {},
   "outputs": [
    {
     "ename": "KeyboardInterrupt",
     "evalue": "",
     "output_type": "error",
     "traceback": [
      "\u001b[1;31m---------------------------------------------------------------------------\u001b[0m",
      "\u001b[1;31mKeyboardInterrupt\u001b[0m                         Traceback (most recent call last)",
      "\u001b[1;32md:\\Document\\研一v1\\研一下\\课程\\视觉工程实践\\第一次作业\\.vscode\\Image_Stitching.ipynb 单元格 1\u001b[0m line \u001b[0;36m6\n\u001b[0;32m     <a href='vscode-notebook-cell:/d%3A/Document/%E7%A0%94%E4%B8%80v1/%E7%A0%94%E4%B8%80%E4%B8%8B/%E8%AF%BE%E7%A8%8B/%E8%A7%86%E8%A7%89%E5%B7%A5%E7%A8%8B%E5%AE%9E%E8%B7%B5/%E7%AC%AC%E4%B8%80%E6%AC%A1%E4%BD%9C%E4%B8%9A/.vscode/Image_Stitching.ipynb#W0sZmlsZQ%3D%3D?line=58'>59</a>\u001b[0m result[\u001b[39m0\u001b[39m:imageB\u001b[39m.\u001b[39mshape[\u001b[39m0\u001b[39m],\u001b[39m0\u001b[39m:imageB\u001b[39m.\u001b[39mshape[\u001b[39m1\u001b[39m]] \u001b[39m=\u001b[39m imageB\n\u001b[0;32m     <a href='vscode-notebook-cell:/d%3A/Document/%E7%A0%94%E4%B8%80v1/%E7%A0%94%E4%B8%80%E4%B8%8B/%E8%AF%BE%E7%A8%8B/%E8%A7%86%E8%A7%89%E5%B7%A5%E7%A8%8B%E5%AE%9E%E8%B7%B5/%E7%AC%AC%E4%B8%80%E6%AC%A1%E4%BD%9C%E4%B8%9A/.vscode/Image_Stitching.ipynb#W0sZmlsZQ%3D%3D?line=59'>60</a>\u001b[0m \u001b[39m# result[0:imageB.shape[0], 0:imageB.shape[1]] = imageB[:imageB.shape[0], :imageB.shape[1]]\u001b[39;00m\n\u001b[1;32m---> <a href='vscode-notebook-cell:/d%3A/Document/%E7%A0%94%E4%B8%80v1/%E7%A0%94%E4%B8%80%E4%B8%8B/%E8%AF%BE%E7%A8%8B/%E8%A7%86%E8%A7%89%E5%B7%A5%E7%A8%8B%E5%AE%9E%E8%B7%B5/%E7%AC%AC%E4%B8%80%E6%AC%A1%E4%BD%9C%E4%B8%9A/.vscode/Image_Stitching.ipynb#W0sZmlsZQ%3D%3D?line=60'>61</a>\u001b[0m show(\u001b[39m'\u001b[39;49m\u001b[39mres\u001b[39;49m\u001b[39m'\u001b[39;49m,result)\n\u001b[0;32m     <a href='vscode-notebook-cell:/d%3A/Document/%E7%A0%94%E4%B8%80v1/%E7%A0%94%E4%B8%80%E4%B8%8B/%E8%AF%BE%E7%A8%8B/%E8%A7%86%E8%A7%89%E5%B7%A5%E7%A8%8B%E5%AE%9E%E8%B7%B5/%E7%AC%AC%E4%B8%80%E6%AC%A1%E4%BD%9C%E4%B8%9A/.vscode/Image_Stitching.ipynb#W0sZmlsZQ%3D%3D?line=61'>62</a>\u001b[0m \u001b[39mprint\u001b[39m(result\u001b[39m.\u001b[39mshape)\n",
      "\u001b[1;32md:\\Document\\研一v1\\研一下\\课程\\视觉工程实践\\第一次作业\\.vscode\\Image_Stitching.ipynb 单元格 1\u001b[0m line \u001b[0;36m9\n\u001b[0;32m      <a href='vscode-notebook-cell:/d%3A/Document/%E7%A0%94%E4%B8%80v1/%E7%A0%94%E4%B8%80%E4%B8%8B/%E8%AF%BE%E7%A8%8B/%E8%A7%86%E8%A7%89%E5%B7%A5%E7%A8%8B%E5%AE%9E%E8%B7%B5/%E7%AC%AC%E4%B8%80%E6%AC%A1%E4%BD%9C%E4%B8%9A/.vscode/Image_Stitching.ipynb#W0sZmlsZQ%3D%3D?line=6'>7</a>\u001b[0m \u001b[39mdef\u001b[39;00m \u001b[39mshow\u001b[39m(name,img):\n\u001b[0;32m      <a href='vscode-notebook-cell:/d%3A/Document/%E7%A0%94%E4%B8%80v1/%E7%A0%94%E4%B8%80%E4%B8%8B/%E8%AF%BE%E7%A8%8B/%E8%A7%86%E8%A7%89%E5%B7%A5%E7%A8%8B%E5%AE%9E%E8%B7%B5/%E7%AC%AC%E4%B8%80%E6%AC%A1%E4%BD%9C%E4%B8%9A/.vscode/Image_Stitching.ipynb#W0sZmlsZQ%3D%3D?line=7'>8</a>\u001b[0m     cv2\u001b[39m.\u001b[39mimshow(name, img)\n\u001b[1;32m----> <a href='vscode-notebook-cell:/d%3A/Document/%E7%A0%94%E4%B8%80v1/%E7%A0%94%E4%B8%80%E4%B8%8B/%E8%AF%BE%E7%A8%8B/%E8%A7%86%E8%A7%89%E5%B7%A5%E7%A8%8B%E5%AE%9E%E8%B7%B5/%E7%AC%AC%E4%B8%80%E6%AC%A1%E4%BD%9C%E4%B8%9A/.vscode/Image_Stitching.ipynb#W0sZmlsZQ%3D%3D?line=8'>9</a>\u001b[0m     cv2\u001b[39m.\u001b[39;49mwaitKey(\u001b[39m0\u001b[39;49m)\n\u001b[0;32m     <a href='vscode-notebook-cell:/d%3A/Document/%E7%A0%94%E4%B8%80v1/%E7%A0%94%E4%B8%80%E4%B8%8B/%E8%AF%BE%E7%A8%8B/%E8%A7%86%E8%A7%89%E5%B7%A5%E7%A8%8B%E5%AE%9E%E8%B7%B5/%E7%AC%AC%E4%B8%80%E6%AC%A1%E4%BD%9C%E4%B8%9A/.vscode/Image_Stitching.ipynb#W0sZmlsZQ%3D%3D?line=9'>10</a>\u001b[0m     cv2\u001b[39m.\u001b[39mdestroyAllWindows()\n",
      "\u001b[1;31mKeyboardInterrupt\u001b[0m: "
     ]
    }
   ],
   "source": [
    "import cv2\n",
    "import numpy as np\n",
    "import sys\n",
    "from PIL import Image\n",
    "\n",
    "\n",
    "def show(name,img):\n",
    "    cv2.imshow(name, img)\n",
    "    cv2.waitKey(0)\n",
    "    cv2.destroyAllWindows()\n",
    "    \n",
    "#读入照片\n",
    "image1 = cv2.imread(\"../22.jpg\")\n",
    "image2 = cv2.imread(\"../11.jpg\")\n",
    "A = image1.copy()\n",
    "B = image2.copy()\n",
    "imageA = cv2.resize(A,(0,0),fx=0.5,fy=0.5)\n",
    "imageB = cv2.resize(B,(0,0),fx=0.5,fy=0.5)\n",
    "\n",
    "#show(\" \",imageA)\n",
    "#检测图片的SIFT关键特征点，计算特征描述子\n",
    "def detect_describe(imag):\n",
    "    sift = cv2.SIFT_create()\n",
    "    (kps,features) = sift.detectAndCompute(imag,None)\n",
    "    kps = np.float32([kp.pt for kp in kps])\n",
    "    #返回特征点集及其对应的特征描述\n",
    "    return (kps,features)\n",
    "\n",
    "kpsA,featuresA = detect_describe(imageA)\n",
    "kpsB,featuresB = detect_describe(imageB)\n",
    "\n",
    "#建立匹配器\n",
    "bf = cv2.BFMatcher()\n",
    "matches = bf.knnMatch(featuresA,featuresB,2)\n",
    "\n",
    "good = [] #存放匹配上的特征点对\n",
    "for m in matches:\n",
    "    #满足条件，保留匹配对\n",
    "    if len(m)==2 and m[0].distance < m[1].distance *0.75:\n",
    "        good.append((m[0].trainIdx,m[1].queryIdx))\n",
    "\n",
    "\n",
    "# 筛选后的匹配对数量大于4时，计算视角变换矩阵\n",
    "if len(good) > 4:\n",
    "    pA = np.float32([kpsA[j] for (i,j) in good])\n",
    "    pB = np.float32([kpsB[i] for (i,j) in good])\n",
    "    #计算视角变换矩阵\n",
    "    H,status = cv2.findHomography(pA,pB,cv2.RANSAC,4.0)\n",
    "\n",
    "M = (matches,H,status)\n",
    "\n",
    "if M is None:\n",
    "    print(\"无匹配结果\")\n",
    "    sys.exit()\n",
    "\n",
    "(matches, H, status) = M\n",
    "result = cv2.warpPerspective(imageA,H,(imageA.shape[1]+imageB.shape[1],imageA.shape[0]))\n",
    "#show('res',result)\n",
    "result[0:imageB.shape[0],0:imageB.shape[1]] = imageB\n",
    "# result[0:imageB.shape[0], 0:imageB.shape[1]] = imageB[:imageB.shape[0], :imageB.shape[1]]\n",
    "show('res',result)\n",
    "print(result.shape)"
   ]
  }
 ],
 "metadata": {
  "kernelspec": {
   "display_name": "vical",
   "language": "python",
   "name": "python3"
  },
  "language_info": {
   "codemirror_mode": {
    "name": "ipython",
    "version": 3
   },
   "file_extension": ".py",
   "mimetype": "text/x-python",
   "name": "python",
   "nbconvert_exporter": "python",
   "pygments_lexer": "ipython3",
   "version": "3.9.18"
  }
 },
 "nbformat": 4,
 "nbformat_minor": 2
}
